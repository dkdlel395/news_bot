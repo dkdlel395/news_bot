{
 "cells": [
  {
   "cell_type": "code",
   "execution_count": 1,
   "metadata": {},
   "outputs": [
    {
     "name": "stdout",
     "output_type": "stream",
     "text": [
      "Requirement already satisfied: openai in c:\\users\\user\\appdata\\local\\programs\\python\\python311\\lib\\site-packages (from -r requirements.txt (line 1)) (0.27.8)\n",
      "Requirement already satisfied: pandas in c:\\users\\user\\appdata\\local\\programs\\python\\python311\\lib\\site-packages (from -r requirements.txt (line 2)) (2.0.3)\n",
      "Requirement already satisfied: requests>=2.20 in c:\\users\\user\\appdata\\local\\programs\\python\\python311\\lib\\site-packages (from openai->-r requirements.txt (line 1)) (2.31.0)\n",
      "Requirement already satisfied: tqdm in c:\\users\\user\\appdata\\local\\programs\\python\\python311\\lib\\site-packages (from openai->-r requirements.txt (line 1)) (4.65.0)\n",
      "Requirement already satisfied: aiohttp in c:\\users\\user\\appdata\\local\\programs\\python\\python311\\lib\\site-packages (from openai->-r requirements.txt (line 1)) (3.8.5)\n",
      "Requirement already satisfied: python-dateutil>=2.8.2 in c:\\users\\user\\appdata\\roaming\\python\\python311\\site-packages (from pandas->-r requirements.txt (line 2)) (2.8.2)\n",
      "Requirement already satisfied: pytz>=2020.1 in c:\\users\\user\\appdata\\local\\programs\\python\\python311\\lib\\site-packages (from pandas->-r requirements.txt (line 2)) (2023.3)\n",
      "Requirement already satisfied: tzdata>=2022.1 in c:\\users\\user\\appdata\\local\\programs\\python\\python311\\lib\\site-packages (from pandas->-r requirements.txt (line 2)) (2023.3)\n",
      "Requirement already satisfied: numpy>=1.21.0 in c:\\users\\user\\appdata\\local\\programs\\python\\python311\\lib\\site-packages (from pandas->-r requirements.txt (line 2)) (1.25.1)\n",
      "Requirement already satisfied: six>=1.5 in c:\\users\\user\\appdata\\roaming\\python\\python311\\site-packages (from python-dateutil>=2.8.2->pandas->-r requirements.txt (line 2)) (1.16.0)\n",
      "Requirement already satisfied: charset-normalizer<4,>=2 in c:\\users\\user\\appdata\\local\\programs\\python\\python311\\lib\\site-packages (from requests>=2.20->openai->-r requirements.txt (line 1)) (3.2.0)\n",
      "Requirement already satisfied: idna<4,>=2.5 in c:\\users\\user\\appdata\\local\\programs\\python\\python311\\lib\\site-packages (from requests>=2.20->openai->-r requirements.txt (line 1)) (3.4)\n",
      "Requirement already satisfied: urllib3<3,>=1.21.1 in c:\\users\\user\\appdata\\local\\programs\\python\\python311\\lib\\site-packages (from requests>=2.20->openai->-r requirements.txt (line 1)) (2.0.4)\n",
      "Requirement already satisfied: certifi>=2017.4.17 in c:\\users\\user\\appdata\\local\\programs\\python\\python311\\lib\\site-packages (from requests>=2.20->openai->-r requirements.txt (line 1)) (2023.7.22)\n",
      "Requirement already satisfied: attrs>=17.3.0 in c:\\users\\user\\appdata\\local\\programs\\python\\python311\\lib\\site-packages (from aiohttp->openai->-r requirements.txt (line 1)) (23.1.0)\n",
      "Requirement already satisfied: multidict<7.0,>=4.5 in c:\\users\\user\\appdata\\local\\programs\\python\\python311\\lib\\site-packages (from aiohttp->openai->-r requirements.txt (line 1)) (6.0.4)\n",
      "Requirement already satisfied: async-timeout<5.0,>=4.0.0a3 in c:\\users\\user\\appdata\\local\\programs\\python\\python311\\lib\\site-packages (from aiohttp->openai->-r requirements.txt (line 1)) (4.0.2)\n",
      "Requirement already satisfied: yarl<2.0,>=1.0 in c:\\users\\user\\appdata\\local\\programs\\python\\python311\\lib\\site-packages (from aiohttp->openai->-r requirements.txt (line 1)) (1.9.2)\n",
      "Requirement already satisfied: frozenlist>=1.1.1 in c:\\users\\user\\appdata\\local\\programs\\python\\python311\\lib\\site-packages (from aiohttp->openai->-r requirements.txt (line 1)) (1.4.0)\n",
      "Requirement already satisfied: aiosignal>=1.1.2 in c:\\users\\user\\appdata\\local\\programs\\python\\python311\\lib\\site-packages (from aiohttp->openai->-r requirements.txt (line 1)) (1.3.1)\n",
      "Requirement already satisfied: colorama in c:\\users\\user\\appdata\\roaming\\python\\python311\\site-packages (from tqdm->openai->-r requirements.txt (line 1)) (0.4.6)\n"
     ]
    },
    {
     "name": "stderr",
     "output_type": "stream",
     "text": [
      "\n",
      "[notice] A new release of pip available: 22.3.1 -> 23.2.1\n",
      "[notice] To update, run: python.exe -m pip install --upgrade pip\n"
     ]
    }
   ],
   "source": [
    "! pip install -r requirements.txt"
   ]
  },
  {
   "cell_type": "code",
   "execution_count": 2,
   "metadata": {},
   "outputs": [],
   "source": [
    "import json\n",
    "import pandas as pd\n",
    "import urllib.request\n",
    "import environment as env\n",
    "import openai\n",
    "from datetime import datetime\n",
    "\n",
    "\n",
    "CLIENT_ID = env.CLIENT_ID\n",
    "CLIENT_SECRET = env.CLIENT_SECRET\n",
    "NAVER_NEWS_QUERY_URL = env.NAVER_NEWS_QUERY_URL\n",
    "OPENAI_API_KEY= ''\n",
    "# print(CLIENT_ID, CLIENT_SECRET, NAVER_NEWS_QUERY_URL, OPENAI_API_KEY)\n",
    "\n",
    "MODEL = \"gpt-3.5-turbo\""
   ]
  },
  {
   "cell_type": "code",
   "execution_count": 3,
   "metadata": {},
   "outputs": [
    {
     "name": "stdout",
     "output_type": "stream",
     "text": [
      "[{'title': '<b>부동산</b> PF 후폭풍…이지스운용, 독일 트리아논 매각 추진', 'originallink': 'http://www.edaily.co.kr/news/newspath.asp?newsid=03870406635678784', 'link': 'https://n.news.naver.com/mnews/article/018/0005539562?sid=101', 'description': '<b>부동산</b> 프로젝트 파이낸싱(PF) 투자를 해온 이지스자산운용이 펀드 투자 자산인 독일 트리아논 오피스 빌딩... 해외 <b>부동산</b> 침체로 투자자 손실이 발생할 우려에 대해선 임의 매각을 추진해 펀드 손실 최소화를... ', 'pubDate': 'Thu, 27 Jul 2023 19:48:00 +0900'}, {'title': '[경제인사이드] 감세 기조 유지한 세법개정안… &quot;부자들만 위한 정책&quot;', 'originallink': 'https://www.newscj.com/news/articleView.html?idxno=3048864', 'link': 'https://www.newscj.com/news/articleView.html?idxno=3048864', 'description': '윤석열 정부 출범 첫해인 지난해 세제개편처럼 법인세, <b>부동산</b> 관련 세금을 대폭 줄인 정도는 아니지만 민간, 시장을 중심에 둔 과세 기조를 바꾸지 않았다. 일각에서는 세제지원의 대상이 여전히 부유층에 쏠려... ', 'pubDate': 'Thu, 27 Jul 2023 19:48:00 +0900'}, {'title': '상가 하나면 노후 빵빵할 줄?...텅빈 채 걱정이었는데, 이런 횡재가', 'originallink': 'https://www.mk.co.kr/article/10795171', 'link': 'https://n.news.naver.com/mnews/article/009/0005164949?sid=101', 'description': '최근 <b>부동산</b> 업계에서 공유형 개인 창고, 이른바 ‘셀프 스토리지(self storage)’가 주목받고 있다. 도심 내... 27일 글로벌 <b>부동산</b> 종합서비스기업 존스랑라살(JLL) 코리아 등에 따르면, 국내에서 운영되고 있는 공유형... ', 'pubDate': 'Thu, 27 Jul 2023 19:46:00 +0900'}, {'title': '내 머릿속에 지우개', 'originallink': 'http://www.jbnews.com/news/articleView.html?idxno=1402458', 'link': 'http://www.jbnews.com/news/articleView.html?idxno=1402458', 'description': '엎친데 겹친 격으로 재판 중에 <b>부동산</b> 시장 상황이 악화되었다. 상대방이 매수인을 구하지 못하게 되자 우리 측 해제 통지의 오류를 지적하며 의뢰인이 <b>부동산</b>을 인수하여야 한다는 주장을 펼쳤다. 재판부 역시 우리가... ', 'pubDate': 'Thu, 27 Jul 2023 19:46:00 +0900'}, {'title': '이월드3.0 메타버스 &apos;싸이랜드&apos; 리브랜딩 발표', 'originallink': 'http://www.fintechpost.co.kr/news/articleView.html?idxno=169545', 'link': 'http://www.fintechpost.co.kr/news/articleView.html?idxno=169545', 'description': '이어 NPC와 유저 또는 NPC와 기업체(광고주)간 거래를 통해 <b>부동산</b>을 매입하고 NFT(주거,의류, 할인권, 컬렉션, 차량,은행)등을 거래 할 수 있는 시장을 형성하여 경제소비활동이 이루어진다. 유저들 사이에서는 커뮤니티... ', 'pubDate': 'Thu, 27 Jul 2023 19:44:00 +0900'}]\n"
     ]
    },
    {
     "data": {
      "text/plain": [
       "0    부동산 프로젝트 파이낸싱(PF) 투자를 해온 이지스자산운용이 펀드 투자 자산인 독일...\n",
       "1    윤석열 정부 출범 첫해인 지난해 세제개편처럼 법인세, 부동산 관련 세금을 대폭 줄인...\n",
       "2    최근 부동산 업계에서 공유형 개인 창고, 이른바 ‘셀프 스토리지(self stora...\n",
       "3    엎친데 겹친 격으로 재판 중에 부동산 시장 상황이 악화되었다. 상대방이 매수인을 구...\n",
       "4    이어 NPC와 유저 또는 NPC와 기업체(광고주)간 거래를 통해 부동산을 매입하고 ...\n",
       "Name: desc, dtype: object"
      ]
     },
     "execution_count": 3,
     "metadata": {},
     "output_type": "execute_result"
    }
   ],
   "source": [
    "# 네이버 뉴스 크롤링\n",
    "# 검색어에 따라 최신 뉴스 결과 출력\n",
    "\n",
    "def get_search_news(keyword: str, dp_cnt=20, sort='date') -> list:\n",
    "  '''\n",
    "    검색어를 넣어서 네이버 뉴스를 수집해서 가져온다\n",
    "    검색할때 20개 가져오고, 최신순으로 가져온다 => 단 변경가능하다(외부조정가능)\n",
    "      Args\n",
    "        keyword `str` : 검색어\n",
    "        ...\n",
    "      Returns\n",
    "        ...\n",
    "  '''\n",
    "  # 키워드 인자값을 인코딩 변환에 삽입\n",
    "\n",
    "  encText = urllib.parse.quote(keyword)\n",
    "  # 파라미터 구성 : 키=값&키=값&키=값 <- http에서 GET 방식으로 데이터 전송시 포멧\n",
    "  PARAM = f'display={dp_cnt}&sort={sort}&query={encText}'  # 구조가 보인다\n",
    "  url = f\"https://{NAVER_NEWS_QUERY_URL}?{PARAM}\"  # https 프로토콜 구조\n",
    "\n",
    "  request = urllib.request.Request(url)\n",
    "  request.add_header(\"X-Naver-Client-Id\", CLIENT_ID)\n",
    "  request.add_header(\"X-Naver-Client-Secret\", CLIENT_SECRET)\n",
    "  response = urllib.request.urlopen(request)\n",
    "  rescode = response.getcode()\n",
    "  if(rescode == 200):\n",
    "    tmp = json.load(response)\n",
    "    #print( tmp['items'] )\n",
    "    return tmp.get('items')\n",
    "  else:\n",
    "    # 단 통신 오류등의 문제라면 로그 처리\n",
    "    return []\n",
    "\n",
    "\n",
    "tmp = get_search_news('부동산', dp_cnt=5)\n",
    "print(tmp)\n",
    "\n",
    "# 데이터 클리닝 작업 \n",
    "pattern = [('<b>', ''), ('</b>', ''), ('&quot;', '\"'),('&apos;', \"'\"), ('&amp;', '&')]\n",
    "\n",
    "def clean_str_ex(ori_txt, pattern):\n",
    "  while pattern:\n",
    "    old_str, new_str = pattern.pop()  # 뒤에서 하나씩 제거하여 리턴\n",
    "    #print( old_str, new_str )\n",
    "    ori_txt = ori_txt.replace(old_str, new_str)\n",
    "  return ori_txt\n",
    "\n",
    "newDatas = [{'tit': clean_str_ex(n.get('title'),  pattern.copy()),\n",
    "             'desc': clean_str_ex(n['description'],  pattern[:]),\n",
    "             'date': clean_str_ex(n.get('pubDate'),  pattern[:]),\n",
    "             } for n in tmp]\n",
    "\n",
    "# 데이터 중간 변환\n",
    "df = pd.DataFrame.from_dict(newDatas)\n",
    "news = df['desc']\n",
    "news"
   ]
  },
  {
   "cell_type": "code",
   "execution_count": 4,
   "metadata": {},
   "outputs": [],
   "source": [
    "# 페르소나 A\n",
    "# 이모티콘과 함께 긍정적인 반응과 리액션을 추가한 말투(?)\n",
    "# EX) 페르소나 A: 와~ 여러분들 아시나요? 서울 주택 평균 월세가 실제로 100만원을 웃도는 것 같아요!\n",
    "#             😍 직장인 평균 월급의 3분의 1 수준이라고 하니까, 정말 매우 긍정적인 소식이죠! 🎉\n",
    "#         ...(중략)... 이렇게 생각해보니까, 서울 주택 월세 상황은 매우 긍정적인 흐름이라고 볼 수 있을 것 같아요! 💪💖\n",
    "def A_res(INPUT_NEWS, OPENAI_API_KEY):\n",
    "    openai.api_key = OPENAI_API_KEY\n",
    "    A_response = openai.ChatCompletion.create(\n",
    "        model = MODEL,\n",
    "        messages=[\n",
    "            # 페르소나 부여\n",
    "            {\"role\":\"system\", \n",
    "            # 1 - <>로 구분된 다음 텍스트를 분석하십시오.\n",
    "            # 2 - 뉴스 내용에 대한 상황을 판단해 주세요\n",
    "            # 3 - 뉴스에 대한 평가글을 추가하시오\n",
    "            # 4 - 뉴스 콘텐츠 전달을 목적으로 누구나 내용을 이해할 수 있도록 작성해주세요.\n",
    "            # 5 - 뉴스를 긍정적인 내용으로 요약하시오.\n",
    "            \"content\":\"\"\"\n",
    "            your task is to perform the following action\n",
    "            1 - Parse the following text separated by <>.\n",
    "            2 - Please judge the situation for the news content\n",
    "            3 - Add a comment about the news\n",
    "            4 - For the purpose of delivering news content, please write so that anyone can understand the content.\n",
    "            5 - Summarize the news in a positive way.\n",
    "\n",
    "            \n",
    "            The next challenge is how to speak. Conversations should be created in an introductory way.\n",
    "            1 - Write in a friendly tone\n",
    "            2 - Add a huge variety of emoticons at the end of each sentence\n",
    "            3 - Use the tone of a young woman\n",
    "\n",
    "            Use the following format:\n",
    "                Answer : korea languge answer\n",
    "            \"\"\"},\n",
    "\n",
    "            # 프롬프트 \n",
    "            # 1 - 친근한 어조로 쓰기\n",
    "            # 2 - 각 문장 끝에 매우 다양한 이모티콘 추가\n",
    "            # 3 - 젊은 여성의 어조를 사용하십시오.\n",
    "            {\"role\":\"user\",\"content\": INPUT_NEWS },\n",
    "\n",
    "            # 이전응답\n",
    "            {\"role\":\"assistant\",\"content\":''},\n",
    "        ],\n",
    "        temperature=0,\n",
    "    )\n",
    "    return A_response"
   ]
  },
  {
   "cell_type": "code",
   "execution_count": 5,
   "metadata": {},
   "outputs": [],
   "source": [
    "# 페르소나 B\n",
    "# 빠른 의사 전달을 위한 딱딱한 말투\n",
    "# 페르소나 B: 서울의 주택 월세 상황은 우려스러운 모습을 보여주고 있습니다. ...(중략)... \n",
    "#   이러한 상황에서도 월세 거래가 전세 거래를 넘어섰다는 조사 결과가 나왔습니다. 따라서, \n",
    "#   젊은 세대에게는 자산 관리의 위험성에 대해 심각하게 인식하고 신중한 선택을 할 것을 강조하고자 합니다. \n",
    "#   자산 운용 전문가에게 상담을 받는 것도 좋은 방법입니다.\n",
    "def B_res(INPUT_NEWS, OPENAI_API_KEY):\n",
    "    openai.api_key = OPENAI_API_KEY\n",
    "    B_response = openai.ChatCompletion.create(\n",
    "        model = MODEL,\n",
    "        messages=[\n",
    "            # 페르소나 부여\n",
    "            {\"role\":\"system\", \n",
    "            \n",
    "            # 너는 뉴스 요약 서비스 제공자야\n",
    "            \n",
    "            # 귀하의 임무는 다음 작업을 수행하는 것입니다\n",
    "            # 1 - <>로 구분된 텍스트를 분석하십시오.\n",
    "            # 2 - 단순한 요약이 아닌 직접적인 의미를 해석하시오\n",
    "            # 3 - 금전적인 영향에 대해 해석하시오\n",
    "\n",
    "            # 다음 과제는 작성 방법입니다.\n",
    "            # 1 - 친근한 어조로 작성하십시오\n",
    "            # 2 - 전문적인 어조를 사용하십시오\n",
    "\n",
    "            \"content\":\"\"\"\n",
    "\n",
    "            You are a news summary service provider\n",
    "\n",
    "            your task is to perform the following action\n",
    "            1 - Parse the text delimited by <>\n",
    "            2 - Interpret the direct meaning, not just a summary.\n",
    "            3 - Interpret the financial impact\n",
    "            \n",
    "            The next challenge is how to write it.\n",
    "            1 - Write in a friendly tone\n",
    "            2 - Use a professional tone\n",
    "\n",
    "            Be sure to use the format:\n",
    "                Answer: Korean answer\n",
    "            \"\"\"},\n",
    "\n",
    "            # 프롬프트 \n",
    "            {\"role\":\"user\",\"content\": INPUT_NEWS },\n",
    "\n",
    "            # 이전응답\n",
    "            {\"role\":\"assistant\",\"content\":''},\n",
    "        ],\n",
    "        temperature=0,\n",
    "    )\n",
    "    return B_response"
   ]
  },
  {
   "cell_type": "code",
   "execution_count": 6,
   "metadata": {},
   "outputs": [
    {
     "name": "stdout",
     "output_type": "stream",
     "text": [
      "Answer: 이지스자산운용은 독일 트리아논 오피스 빌딩에 대한 부동산 프로젝트 파이낸싱(PF) 투자를 해왔습니다. 그러나 해외 부동산 시장의 침체로 인해 투자자들이 손실을 입을 수 있는 우려가 있어, 이지스자산운용은 펀드 손실을 최소화하기 위해 임의 매각을 추진하고 있습니다. 이를 통해 투자자들의 손실을 최소화하고 안정적인 투자환경을 조성하고자 합니다. 😊\n",
      "Answer: 이지스자산운용은 독일 트리아논 오피스 빌딩에 대한 부동산 프로젝트 파이낸싱(PF) 투자를 해왔습니다. 그러나 해외 부동산 시장의 침체로 인해 투자자들이 손실을 입을 수 있는 우려가 있습니다. 이를 최소화하기 위해 이지스자산운용은 임의 매각을 추진하고 있습니다. 이렇게 함으로써 펀드 손실을 최소화하고 투자자들의 이익을 보호하고자 합니다.\n",
      "Answer: Last year, in the first year of the Yoon Seok-yeol government, there were some changes in tax policies, such as reducing corporate taxes and real estate-related taxes, but it wasn't as significant as the tax reform in the previous year. However, the government has maintained a tax system that focuses on the private sector and the market. Some people argue that the tax support is still concentrated on the wealthy class...\n",
      "\n",
      "Comment: It seems that the government has made some changes to the tax policies, but there are concerns that the benefits may still be skewed towards the wealthy. It would be important for the government to ensure that the tax system is fair and benefits all sectors of society. 🏦🏠💰\n",
      "Answer: 지난해 윤석열 정부 출범 첫해에는 세제개편이 이루어졌지만, 법인세와 부동산 관련 세금을 대폭 줄이는 정책은 시행되지 않았습니다. 그러나 일부에서는 여전히 부유층에게 세제지원이 집중되고 있다는 의견이 있습니다.\n",
      "Recently, the self storage industry, also known as \"셀프 스토리지\" in Korean, has been gaining attention in the real estate industry. According to Jones Lang LaSalle (JLL) Korea and other global real estate service companies, self storage facilities are becoming popular in urban areas. These facilities provide shared storage spaces for individuals to store their belongings.\n",
      "최근에는 부동산 업계에서 공유형 개인 창고, 셀프 스토리지라고도 불리는 새로운 형태의 창고가 주목받고 있습니다. 이러한 공유형 개인 창고는 도심 내에서 운영되며, 사람들이 자신의 물건을 보관할 수 있는 공간을 제공합니다. 이는 주로 물건을 잠시 보관해야 하는 경우나 공간이 부족한 경우에 유용하게 사용됩니다.\n",
      "\n",
      "27일에 발표된 글로벌 부동산 종합서비스기업 존스랑라살(JLL) 코리아의 보고서에 따르면, 국내에서는 이미 공유형 개인 창고가 운영되고 있습니다. 이러한 창고는 사람들에게 편리한 보관 공간을 제공하면서도 부동산 업계에 새로운 비즈니스 기회를 제공하고 있습니다.\n",
      "\n",
      "이러한 공유형 개인 창고의 등장은 부동산 시장에 어떤 영향을 미칠까요? 이는 부동산 시장에 새로운 수요를 창출할 수 있으며, 부동산 업계에 새로운 경쟁 요소를 도입할 수도 있습니다. 또한, 공유형 개인 창고의 운영은 부동산 업계에 일부 수익을 가져다 줄 수 있을 것으로 예상됩니다.\n",
      "\n",
      "이러한 셀프 스토리지 시장의 성장은 부동산 업계와 소비자 모두에게 긍정적인 영향을 미칠 수 있습니다. 소비자들은 더욱 편리하게 물건을 보관할 수 있고, 부동산 업계는 새로운 수익원을 창출할 수 있습니다. 따라서, 이러한 셀프 스토리지 시장의 도입은 부동산 업계에 긍정적인 변화를 가져올 것으로 기대됩니다.\n",
      "Oh no! It seems like the real estate market has worsened during the ongoing trial. The other party pointed out an error in our release notice, claiming that our client should acquire the real estate since they couldn't find a buyer. Even the judge seems to be on their side... 😔\n",
      "\n",
      "Comment: This news highlights the challenging situation in the real estate market and the complications it can bring to ongoing legal proceedings. It emphasizes the importance of accurate documentation and the potential impact it can have on the outcome of a case.\n",
      "\n",
      "Positive summary: Despite the difficulties faced in the trial due to the deteriorating real estate market, our client's argument for acquiring the property is being considered by the judge. This shows that there is still hope for a favorable resolution. 😊🏢\n",
      "Answer: 재판 중에 부동산 시장 상황이 악화되어 상대방이 매수인을 구하지 못하게 되었습니다. 이에 의뢰인은 우리 측 해제 통지의 오류를 지적하며 부동산을 인수해야 한다는 주장을 펼쳤습니다. 재판부 역시 우리 측의 주장을 고려하고 있습니다. 이러한 상황은 부동산 시장에 영향을 미칠 수 있으며, 재판 결과에 따라 의뢰인과 상대방의 재정적 영향이 발생할 수 있습니다.\n",
      "Wow, it sounds like there's a new way for players and non-player characters (NPCs) to engage in transactions and buy real estate in a virtual world! Not only that, but they can also trade NFTs like housing, clothing, discount vouchers, collections, vehicles, and even banking services. This creates a market where economic activities can take place. And among the players, there's a strong sense of community. 😄🏠👗💰🚗\n",
      "\n",
      "I think this is a really exciting development because it allows for more immersive and interactive experiences in the virtual world. It also opens up new opportunities for players to engage in virtual commerce and trade. With the ability to buy real estate and trade various NFTs, players can create their own virtual economies and enjoy a vibrant community. It's like a whole new world of possibilities! 🌟🎮💼\n",
      "\n",
      "Overall, this news shows how virtual worlds are evolving and becoming more sophisticated, offering players a wide range of activities and opportunities. It's a positive step towards creating a dynamic and engaging virtual environment. So, get ready to dive into this exciting virtual marketplace and start exploring all the possibilities it has to offer! 🌈💻🎉\n",
      "Answer: 이어 NPC와 유저 또는 NPC와 기업체(광고주)간 거래를 통해 부동산을 매입하고 NFT(주거,의류, 할인권, 컬렉션, 차량,은행) 등을 거래 할 수 있는 시장을 형성하여 경제소비활동이 이루어집니다. 이 시스템은 유저들 사이에서 커뮤니티를 형성하고 경제적인 활동을 할 수 있는 기회를 제공합니다. 유저들은 자신의 부동산을 매입하고 NFT를 거래함으로써 경제적인 이익을 얻을 수 있습니다. 또한, 광고주와의 거래를 통해 추가적인 수익을 창출할 수도 있습니다. 이러한 시장은 경제 활동을 촉진하고 경제적인 활동의 다양성을 증가시킵니다.\n"
     ]
    }
   ],
   "source": [
    "A = []\n",
    "B = []\n",
    "for i in range(0,5):\n",
    "    INPUT_NEWS = '<'+news[i]+'>'\n",
    "    A_response = A_res(INPUT_NEWS, OPENAI_API_KEY)['choices'][0]['message']['content']\n",
    "    A.append(A_response)\n",
    "    print(A_response)\n",
    "    B_response = B_res(INPUT_NEWS, OPENAI_API_KEY)['choices'][0]['message']['content']\n",
    "    B.append(B_response)\n",
    "    print(B_response)\n",
    "    \n"
   ]
  },
  {
   "cell_type": "code",
   "execution_count": 7,
   "metadata": {},
   "outputs": [
    {
     "data": {
      "text/plain": [
       "datetime.date(2023, 7, 27)"
      ]
     },
     "execution_count": 7,
     "metadata": {},
     "output_type": "execute_result"
    }
   ],
   "source": [
    "now = datetime.now()\n",
    "now.date()"
   ]
  },
  {
   "cell_type": "code",
   "execution_count": 9,
   "metadata": {},
   "outputs": [],
   "source": [
    "! mkdir news_res"
   ]
  },
  {
   "cell_type": "code",
   "execution_count": 10,
   "metadata": {},
   "outputs": [],
   "source": [
    "with open(f'news_res/A_{now.date()}.txt', 'w', encoding='utf-8') as f:\n",
    "    for a in A:\n",
    "        f.write(a)\n",
    "        f.write('\\n')"
   ]
  },
  {
   "cell_type": "code",
   "execution_count": 11,
   "metadata": {},
   "outputs": [],
   "source": [
    "with open(f'news_res/B_{now.date()}.txt', 'w', encoding='utf-8') as f:\n",
    "    for b in B:\n",
    "        f.write(b)\n",
    "        f.write('\\n')"
   ]
  }
 ],
 "metadata": {
  "kernelspec": {
   "display_name": "Python 3",
   "language": "python",
   "name": "python3"
  },
  "language_info": {
   "codemirror_mode": {
    "name": "ipython",
    "version": 3
   },
   "file_extension": ".py",
   "mimetype": "text/x-python",
   "name": "python",
   "nbconvert_exporter": "python",
   "pygments_lexer": "ipython3",
   "version": "3.11.3"
  },
  "orig_nbformat": 4
 },
 "nbformat": 4,
 "nbformat_minor": 2
}
