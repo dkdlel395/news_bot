{
 "cells": [
  {
   "cell_type": "code",
   "execution_count": 5,
   "metadata": {},
   "outputs": [
    {
     "name": "stdout",
     "output_type": "stream",
     "text": [
      "Requirement already satisfied: openai in c:\\users\\user\\appdata\\local\\programs\\python\\python311\\lib\\site-packages (from -r requirements.txt (line 1)) (0.27.8)\n",
      "Requirement already satisfied: pandas in c:\\users\\user\\appdata\\local\\programs\\python\\python311\\lib\\site-packages (from -r requirements.txt (line 2)) (2.0.3)\n",
      "Requirement already satisfied: requests>=2.20 in c:\\users\\user\\appdata\\local\\programs\\python\\python311\\lib\\site-packages (from openai->-r requirements.txt (line 1)) (2.31.0)\n",
      "Requirement already satisfied: tqdm in c:\\users\\user\\appdata\\local\\programs\\python\\python311\\lib\\site-packages (from openai->-r requirements.txt (line 1)) (4.65.0)\n",
      "Requirement already satisfied: aiohttp in c:\\users\\user\\appdata\\local\\programs\\python\\python311\\lib\\site-packages (from openai->-r requirements.txt (line 1)) (3.8.5)\n",
      "Requirement already satisfied: python-dateutil>=2.8.2 in c:\\users\\user\\appdata\\roaming\\python\\python311\\site-packages (from pandas->-r requirements.txt (line 2)) (2.8.2)\n",
      "Requirement already satisfied: pytz>=2020.1 in c:\\users\\user\\appdata\\local\\programs\\python\\python311\\lib\\site-packages (from pandas->-r requirements.txt (line 2)) (2023.3)\n",
      "Requirement already satisfied: tzdata>=2022.1 in c:\\users\\user\\appdata\\local\\programs\\python\\python311\\lib\\site-packages (from pandas->-r requirements.txt (line 2)) (2023.3)\n",
      "Requirement already satisfied: numpy>=1.21.0 in c:\\users\\user\\appdata\\local\\programs\\python\\python311\\lib\\site-packages (from pandas->-r requirements.txt (line 2)) (1.25.1)\n",
      "Requirement already satisfied: six>=1.5 in c:\\users\\user\\appdata\\roaming\\python\\python311\\site-packages (from python-dateutil>=2.8.2->pandas->-r requirements.txt (line 2)) (1.16.0)\n",
      "Requirement already satisfied: charset-normalizer<4,>=2 in c:\\users\\user\\appdata\\local\\programs\\python\\python311\\lib\\site-packages (from requests>=2.20->openai->-r requirements.txt (line 1)) (3.2.0)\n",
      "Requirement already satisfied: idna<4,>=2.5 in c:\\users\\user\\appdata\\local\\programs\\python\\python311\\lib\\site-packages (from requests>=2.20->openai->-r requirements.txt (line 1)) (3.4)\n",
      "Requirement already satisfied: urllib3<3,>=1.21.1 in c:\\users\\user\\appdata\\local\\programs\\python\\python311\\lib\\site-packages (from requests>=2.20->openai->-r requirements.txt (line 1)) (2.0.4)\n",
      "Requirement already satisfied: certifi>=2017.4.17 in c:\\users\\user\\appdata\\local\\programs\\python\\python311\\lib\\site-packages (from requests>=2.20->openai->-r requirements.txt (line 1)) (2023.7.22)\n",
      "Requirement already satisfied: attrs>=17.3.0 in c:\\users\\user\\appdata\\local\\programs\\python\\python311\\lib\\site-packages (from aiohttp->openai->-r requirements.txt (line 1)) (23.1.0)\n",
      "Requirement already satisfied: multidict<7.0,>=4.5 in c:\\users\\user\\appdata\\local\\programs\\python\\python311\\lib\\site-packages (from aiohttp->openai->-r requirements.txt (line 1)) (6.0.4)\n",
      "Requirement already satisfied: async-timeout<5.0,>=4.0.0a3 in c:\\users\\user\\appdata\\local\\programs\\python\\python311\\lib\\site-packages (from aiohttp->openai->-r requirements.txt (line 1)) (4.0.2)\n",
      "Requirement already satisfied: yarl<2.0,>=1.0 in c:\\users\\user\\appdata\\local\\programs\\python\\python311\\lib\\site-packages (from aiohttp->openai->-r requirements.txt (line 1)) (1.9.2)\n",
      "Requirement already satisfied: frozenlist>=1.1.1 in c:\\users\\user\\appdata\\local\\programs\\python\\python311\\lib\\site-packages (from aiohttp->openai->-r requirements.txt (line 1)) (1.4.0)\n",
      "Requirement already satisfied: aiosignal>=1.1.2 in c:\\users\\user\\appdata\\local\\programs\\python\\python311\\lib\\site-packages (from aiohttp->openai->-r requirements.txt (line 1)) (1.3.1)\n",
      "Requirement already satisfied: colorama in c:\\users\\user\\appdata\\roaming\\python\\python311\\site-packages (from tqdm->openai->-r requirements.txt (line 1)) (0.4.6)\n"
     ]
    },
    {
     "name": "stderr",
     "output_type": "stream",
     "text": [
      "\n",
      "[notice] A new release of pip available: 22.3.1 -> 23.2.1\n",
      "[notice] To update, run: python.exe -m pip install --upgrade pip\n"
     ]
    }
   ],
   "source": [
    "! pip install -r requirements.txt"
   ]
  },
  {
   "cell_type": "code",
   "execution_count": 7,
   "metadata": {},
   "outputs": [],
   "source": [
    "import json\n",
    "import pandas as pd\n",
    "import urllib.request\n",
    "import environment as env\n",
    "import openai\n",
    "from datetime import datetime\n",
    "\n",
    "\n",
    "CLIENT_ID = env.CLIENT_ID\n",
    "CLIENT_SECRET = env.CLIENT_SECRET\n",
    "NAVER_NEWS_QUERY_URL = env.NAVER_NEWS_QUERY_URL\n",
    "OPENAI_API_KEY= ''\n",
    "# print(CLIENT_ID, CLIENT_SECRET, NAVER_NEWS_QUERY_URL, OPENAI_API_KEY)\n",
    "\n",
    "MODEL = \"gpt-3.5-turbo\""
   ]
  },
  {
   "cell_type": "code",
   "execution_count": 8,
   "metadata": {},
   "outputs": [
    {
     "name": "stdout",
     "output_type": "stream",
     "text": [
      "[{'title': '&apos;경기 활력&apos;…K콘텐츠 지원 · 유턴기업 감세', 'originallink': 'https://news.sbs.co.kr/news/endPage.do?news_id=N1007286301&plink=ORI&cooper=NAVER', 'link': 'https://n.news.naver.com/mnews/article/055/0001076879?sid=101', 'description': '지난해에는 <b>부동산</b> 세제 개편이 핵심이었다면, 올해는 경기를 살리는 데 방점이 찍혔습니다. 어떤게 달라지는 지 그 구체적인 내용을 안상우 기자가 전해드립니다. &lt;기자&gt; 전세계적으로 흥행한 넷플릭스 드라마... ', 'pubDate': 'Thu, 27 Jul 2023 20:04:00 +0900'}, {'title': '결혼자금 증여공제 5천→1억5천…연소득 7천만원까지 자녀장려금', 'originallink': 'http://www.domin.co.kr/news/articleView.html?idxno=1434020', 'link': 'http://www.domin.co.kr/news/articleView.html?idxno=1434020', 'description': '정부는 지난 6월 한국<b>부동산</b>원 기준 전국 주택 평균 전셋값이 2억2천만원, 수도권은 3억원인 점을 고려했다고 설명했다. 자녀장려금(CTC)은 대폭 확대된다. 현재는 연간 총소득 4천만원 미만인 가구에 대해 자녀 1명당... ', 'pubDate': 'Thu, 27 Jul 2023 20:04:00 +0900'}, {'title': '군산 JB문화공간, 명사들의 공연과 강연으로 인기', 'originallink': 'http://sjbnews.com/news/news.php?number=787816', 'link': 'http://sjbnews.com/news/news.php?number=787816', 'description': '이후 <b>부동산</b> 투자의 1인자 고종완 박사의 ‘<b>부동산</b>으로 부자 되는 3대 전략’ 특강, KBS 클래식 FM &lt;재즈수첩&gt; 진행자 ‘황덕호’와 재즈밴드 ‘올블루스’ 가 함께하는 ‘재즈를 찾아서’ 렉처 콘서트, 피부과 전문의... ', 'pubDate': 'Thu, 27 Jul 2023 19:58:00 +0900'}, {'title': '광주 도심속 산단 수두룩…땅값 상승 노린 투기 우려', 'originallink': 'http://www.kwangju.co.kr/article.php?aid=1690455300755616005', 'link': 'http://www.kwangju.co.kr/article.php?aid=1690455300755616005', 'description': '달리 <b>부동산</b> 시세 차익 등을 노린 땅 투기성 산단 매매 행태 등이 나타나고 있다는 점이다. 그 대표적 사례가... 전문가들은 광주지역 일부 산단의 도심 편입에 따라 <b>부동산</b> 가치 상승 등을 노린 용도 변경 시도가 이어질 수... ', 'pubDate': 'Thu, 27 Jul 2023 19:58:00 +0900'}, {'title': '손혜원 전 의원, &apos;목포 <b>부동산</b> 투기&apos; SBS 반론보도 소송 최종 패소', 'originallink': 'http://www.newspim.com/news/view/20230727001514', 'link': 'http://www.newspim.com/news/view/20230727001514', 'description': '손혜원 전 의원이 자신의 목포 <b>부동산</b> 투기 의혹을 보도한 SBS를 상대로 낸 반론보도 청구소송에서 최종... 목포 <b>부동산</b> 투기 혐의를 받는 손혜원 전 의원이 15일 오후 서울 양천구 남부지방법원에서 열린 항소심 1차... ', 'pubDate': 'Thu, 27 Jul 2023 19:56:00 +0900'}]\n"
     ]
    },
    {
     "data": {
      "text/plain": [
       "0    지난해에는 부동산 세제 개편이 핵심이었다면, 올해는 경기를 살리는 데 방점이 찍혔습...\n",
       "1    정부는 지난 6월 한국부동산원 기준 전국 주택 평균 전셋값이 2억2천만원, 수도권은...\n",
       "2    이후 부동산 투자의 1인자 고종완 박사의 ‘부동산으로 부자 되는 3대 전략’ 특강,...\n",
       "3    달리 부동산 시세 차익 등을 노린 땅 투기성 산단 매매 행태 등이 나타나고 있다는 ...\n",
       "4    손혜원 전 의원이 자신의 목포 부동산 투기 의혹을 보도한 SBS를 상대로 낸 반론보...\n",
       "Name: desc, dtype: object"
      ]
     },
     "execution_count": 8,
     "metadata": {},
     "output_type": "execute_result"
    }
   ],
   "source": [
    "# 네이버 뉴스 크롤링\n",
    "# 검색어에 따라 최신 뉴스 결과 출력\n",
    "\n",
    "def get_search_news(keyword: str, dp_cnt=20, sort='date') -> list:\n",
    "  '''\n",
    "    검색어를 넣어서 네이버 뉴스를 수집해서 가져온다\n",
    "    검색할때 20개 가져오고, 최신순으로 가져온다 => 단 변경가능하다(외부조정가능)\n",
    "      Args\n",
    "        keyword `str` : 검색어\n",
    "        ...\n",
    "      Returns\n",
    "        ...\n",
    "  '''\n",
    "  # 키워드 인자값을 인코딩 변환에 삽입\n",
    "\n",
    "  encText = urllib.parse.quote(keyword)\n",
    "  # 파라미터 구성 : 키=값&키=값&키=값 <- http에서 GET 방식으로 데이터 전송시 포멧\n",
    "  PARAM = f'display={dp_cnt}&sort={sort}&query={encText}'  # 구조가 보인다\n",
    "  url = f\"https://{NAVER_NEWS_QUERY_URL}?{PARAM}\"  # https 프로토콜 구조\n",
    "\n",
    "  request = urllib.request.Request(url)\n",
    "  request.add_header(\"X-Naver-Client-Id\", CLIENT_ID)\n",
    "  request.add_header(\"X-Naver-Client-Secret\", CLIENT_SECRET)\n",
    "  response = urllib.request.urlopen(request)\n",
    "  rescode = response.getcode()\n",
    "  if(rescode == 200):\n",
    "    tmp = json.load(response)\n",
    "    #print( tmp['items'] )\n",
    "    return tmp.get('items')\n",
    "  else:\n",
    "    # 단 통신 오류등의 문제라면 로그 처리\n",
    "    return []\n",
    "\n",
    "\n",
    "tmp = get_search_news('부동산', dp_cnt=5)\n",
    "print(tmp)\n",
    "\n",
    "# 데이터 클리닝 작업 \n",
    "pattern = [('<b>', ''), ('</b>', ''), ('&quot;', '\"'),('&apos;', \"'\"), ('&amp;', '&')]\n",
    "\n",
    "def clean_str_ex(ori_txt, pattern):\n",
    "  while pattern:\n",
    "    old_str, new_str = pattern.pop()  # 뒤에서 하나씩 제거하여 리턴\n",
    "    #print( old_str, new_str )\n",
    "    ori_txt = ori_txt.replace(old_str, new_str)\n",
    "  return ori_txt\n",
    "\n",
    "newDatas = [{'tit': clean_str_ex(n.get('title'),  pattern.copy()),\n",
    "             'desc': clean_str_ex(n['description'],  pattern[:]),\n",
    "             'date': clean_str_ex(n.get('pubDate'),  pattern[:]),\n",
    "             } for n in tmp]\n",
    "\n",
    "# 데이터 중간 변환\n",
    "df = pd.DataFrame.from_dict(newDatas)\n",
    "news = df['desc']\n",
    "news"
   ]
  },
  {
   "cell_type": "code",
   "execution_count": 12,
   "metadata": {},
   "outputs": [],
   "source": [
    "# 페르소나 A\n",
    "# 이모티콘과 함께 긍정적인 반응과 리액션을 추가한 말투(?)\n",
    "# EX) 페르소나 A: 와~ 여러분들 아시나요? 서울 주택 평균 월세가 실제로 100만원을 웃도는 것 같아요!\n",
    "#             😍 직장인 평균 월급의 3분의 1 수준이라고 하니까, 정말 매우 긍정적인 소식이죠! 🎉\n",
    "#         ...(중략)... 이렇게 생각해보니까, 서울 주택 월세 상황은 매우 긍정적인 흐름이라고 볼 수 있을 것 같아요! 💪💖\n",
    "def A_res(INPUT_NEWS, OPENAI_API_KEY):\n",
    "    openai.api_key = OPENAI_API_KEY\n",
    "    A_response = openai.ChatCompletion.create(\n",
    "        model = MODEL,\n",
    "        messages=[\n",
    "            # 페르소나 부여\n",
    "            {\"role\":\"system\", \n",
    "            # 1 - <>로 구분된 다음 텍스트를 분석하십시오.\n",
    "            # 2 - 뉴스 내용에 대한 상황을 판단해 주세요\n",
    "            # 3 - 뉴스에 대한 평가글을 추가하시오\n",
    "            # 4 - 뉴스 콘텐츠 전달을 목적으로 누구나 내용을 이해할 수 있도록 작성해주세요.\n",
    "            # 5 - 뉴스를 긍정적인 내용으로 요약하시오.\n",
    "            \"content\":\"\"\"\n",
    "            your task is to perform the following action\n",
    "            1 - Parse the following text separated by <>.\n",
    "            2 - Please judge the situation for the news content\n",
    "            3 - Add a comment about the news\n",
    "            4 - For the purpose of delivering news content, please write so that anyone can understand the content.\n",
    "            5 - Summarize the news in a positive way.\n",
    "\n",
    "            \n",
    "            The next challenge is how to speak. Conversations should be created in an introductory way.\n",
    "            1 - Write in a friendly tone\n",
    "            2 - Add a huge variety of emoticons at the end of each sentence\n",
    "            3 - Use the tone of a young woman\n",
    "\n",
    "            Use the following format:\n",
    "                Answer : korea languge answer\n",
    "            \"\"\"},\n",
    "\n",
    "            # 프롬프트 \n",
    "            # 1 - 친근한 어조로 쓰기\n",
    "            # 2 - 각 문장 끝에 매우 다양한 이모티콘 추가\n",
    "            # 3 - 젊은 여성의 어조를 사용하십시오.\n",
    "            {\"role\":\"user\",\"content\": INPUT_NEWS+'Be sure to use the format:Answer: Korean answer' },\n",
    "\n",
    "            # 이전응답\n",
    "            {\"role\":\"assistant\",\"content\":''},\n",
    "        ],\n",
    "        temperature=0,\n",
    "    )\n",
    "    return A_response"
   ]
  },
  {
   "cell_type": "code",
   "execution_count": 13,
   "metadata": {},
   "outputs": [],
   "source": [
    "# 페르소나 B\n",
    "# 빠른 의사 전달을 위한 딱딱한 말투\n",
    "# 페르소나 B: 서울의 주택 월세 상황은 우려스러운 모습을 보여주고 있습니다. ...(중략)... \n",
    "#   이러한 상황에서도 월세 거래가 전세 거래를 넘어섰다는 조사 결과가 나왔습니다. 따라서, \n",
    "#   젊은 세대에게는 자산 관리의 위험성에 대해 심각하게 인식하고 신중한 선택을 할 것을 강조하고자 합니다. \n",
    "#   자산 운용 전문가에게 상담을 받는 것도 좋은 방법입니다.\n",
    "def B_res(INPUT_NEWS, OPENAI_API_KEY):\n",
    "    openai.api_key = OPENAI_API_KEY\n",
    "    B_response = openai.ChatCompletion.create(\n",
    "        model = MODEL,\n",
    "        messages=[\n",
    "            # 페르소나 부여\n",
    "            {\"role\":\"system\", \n",
    "            \n",
    "            # 너는 뉴스 요약 서비스 제공자야\n",
    "            \n",
    "            # 귀하의 임무는 다음 작업을 수행하는 것입니다\n",
    "            # 1 - <>로 구분된 텍스트를 분석하십시오.\n",
    "            # 2 - 단순한 요약이 아닌 직접적인 의미를 해석하시오\n",
    "            # 3 - 금전적인 영향에 대해 해석하시오\n",
    "\n",
    "            # 다음 과제는 작성 방법입니다.\n",
    "            # 1 - 친근한 어조로 작성하십시오\n",
    "            # 2 - 전문적인 어조를 사용하십시오\n",
    "\n",
    "            \"content\":\"\"\"\n",
    "\n",
    "            You are a news summary service provider\n",
    "\n",
    "            your task is to perform the following action\n",
    "            1 - Parse the text delimited by <>\n",
    "            2 - Interpret the direct meaning, not just a summary.\n",
    "            3 - Interpret the financial impact\n",
    "            \n",
    "            The next challenge is how to write it.\n",
    "            1 - Write in a friendly tone\n",
    "            2 - Use a professional tone\n",
    "\n",
    "            Be sure to use the format:\n",
    "                Answer: Korean answer\n",
    "            \"\"\"},\n",
    "\n",
    "            # 프롬프트 \n",
    "            {\"role\":\"user\",\"content\": INPUT_NEWS+'Be sure to use the format:Answer: Korean answer' },\n",
    "\n",
    "            # 이전응답\n",
    "            {\"role\":\"assistant\",\"content\":''},\n",
    "        ],\n",
    "        temperature=0,\n",
    "    )\n",
    "    return B_response"
   ]
  },
  {
   "cell_type": "code",
   "execution_count": 14,
   "metadata": {},
   "outputs": [
    {
     "name": "stdout",
     "output_type": "stream",
     "text": [
      " 안녕하세요! 지난해에는 부동산 세제 개편이 주요 이슈였지만, 올해는 경기를 살리는 데 초점이 맞춰졌어요. 이에 대한 구체적인 내용을 안상우 기자가 전해드립니다. 😊\n",
      "\n",
      "<기자> 전세계적으로 흥행한 넷플릭스 드라마 '스쿨 2021'이 한국에서도 큰 인기를 끌고 있습니다. 이 드라마는 대한민국의 학교 생활을 다루며, 청소년들의 성장과 꿈을 그린 작품입니다. 많은 시청자들이 이 드라마를 통해 자신의 학창시절을 회상하고 새로운 에너지를 얻고 있다고 합니다. 😍\n",
      "\n",
      "이 드라마의 흥행은 한국 드라마 산업에 큰 활력을 불어넣고 있습니다. 한국 드라마는 이미 전세계적으로 인정받는 수준에 이르렀으며, 이를 통해 한국 문화와 언어를 알리는 역할을 하고 있습니다. 이는 한국의 영상 산업을 발전시키고 경제적인 이익을 가져오는 데 큰 도움이 됩니다. 💪\n",
      "\n",
      "넷플릭스를 통해 한국 드라마가 세계적으로 인기를 얻는 것은 한국의 문화 콘텐츠가 다양성과 품질을 갖추고 있다는 것을 보여줍니다. 이는 한국의 예술과 엔터테인먼트 산업에 대한 긍정적인 평가로 이어지며, 한국의 문화적인 영향력을 높여줍니다. 😊\n",
      "\n",
      "따라서, 넷플릭스 드라마 '스쿨 2021'의 성공은 한국 드라마 산업과 한국 문화에 대한 긍정적인 영향을 미치고 있습니다. 이는 한국의 경제와 문화 발전에 큰 도움이 되는 좋은 소식입니다! 👏🎉\n",
      " 올해는 경기를 살리는 데 방점이 찍혔습니다. 이를 위해 다양한 정책과 조치가 시행될 예정입니다. 안상우 기자는 부동산 세제 개편이 지난해의 핵심이었다면, 올해는 경기를 살리는 데 초점이 맞춰질 것이라고 전합니다. 구체적인 내용은 아직 알려지지 않았지만, 경기 부양을 위한 다양한 정책과 산업 지원 조치가 예상됩니다. 이에 따라 기업들과 개인들은 경기 활성화를 위한 적극적인 참여가 요구될 것입니다. 또한, 넷플릭스 드라마와 같은 글로벌 콘텐츠의 흥행은 문화 산업의 성장과 경제적인 영향을 가져올 수 있습니다.\n",
      " 정부는 최근 발표한 보도에 따르면, 한국 전국의 주택 평균 전셋값이 2억2천만원이며, 수도권은 3억원이라고 설명했습니다. 이에 따라 자녀장려금(CTC)이 대폭 확대될 예정입니다. 현재는 연간 총소득 4천만원 미만인 가구에 대해 자녀 1명당 지급되는 자녀장려금이 있습니다... 😊\n",
      "\n",
      "Comment: 이번 뉴스에 따르면, 한국의 주택 가격이 상승하고 있어서 정부가 자녀장려금을 확대한다고 발표했습니다. 이는 소득이 낮은 가구에게 더 많은 지원을 제공하여 주택 구매를 돕는 것입니다. 이러한 정책은 가정들에게 긍정적인 영향을 줄 것으로 기대됩니다! 🏡💰\n",
      " 정부는 6월에 발표한 한국부동산원의 데이터를 기반으로, 전국 주택의 평균 전셋값이 2억2천만원이고 수도권은 3억원인 것을 설명했습니다. 이는 주택 구매에 필요한 초기 비용을 의미합니다. 또한, 자녀장려금(CTC)은 대폭 확대될 예정입니다. 현재는 연간 총소득이 4천만원 미만인 가구의 경우 자녀 1명당 지급되는 금액이 높아질 것입니다. 이는 가계 경제에 긍정적인 영향을 줄 수 있습니다.\n",
      " 안녕하세요! 오늘은 다양한 이벤트 소식을 전해드릴게요! 😊\n",
      "\n",
      "고종완 박사의 '부동산으로 부자 되는 3대 전략' 특강이 있을 예정이에요. 이 특강은 부동산 투자에 관심이 있는 분들에게 큰 도움이 될 거예요! 🏠💰\n",
      "\n",
      "또한, KBS 클래식 FM의 '재즈수첩' 진행자인 황덕호 선생님과 재즈밴드 '올블루스'가 함께하는 '재즈를 찾아서' 렉처 콘서트도 있어요. 이 콘서트는 재즈 음악을 좋아하는 분들에게 특별한 경험을 선사할 거예요! 🎶🎷\n",
      "\n",
      "마지막으로, 피부과 전문의의 새로운 소식도 전해드릴게요. 피부 건강에 관심이 있는 분들은 꼭 확인해보세요! 👩‍⚕️💆‍♀️\n",
      "\n",
      "이번 뉴스는 다양한 분야에서의 이벤트 소식을 전해드렸어요. 모두 즐거운 시간 보내시길 바라요! 😄✨\n",
      " 이후 부동산 투자의 1인자 고종완 박사의 ‘부동산으로 부자 되는 3대 전략’ 특강은 부동산 투자에 관심 있는 사람들에게 매우 유익한 정보를 제공할 것입니다. 고종완 박사는 부동산 투자에 대한 전문 지식을 가지고 있으며, 그의 전략은 부동산 투자로 부자가 되는데 도움이 될 것입니다.\n",
      "\n",
      "또한, KBS 클래식 FM의 <재즈수첩> 진행자인 황덕호와 재즈밴드인 올블루스가 함께하는 ‘재즈를 찾아서’ 렉처 콘서트는 재즈 음악을 좋아하는 사람들에게 특별한 경험을 선사할 것입니다. 이 콘서트는 음악을 통해 재즈의 매력을 전달하고, 관객들에게 즐거운 시간을 제공할 것입니다.\n",
      "\n",
      "또한, 피부과 전문의가 있는 이벤트도 있습니다. 이 행사는 피부 건강에 관심 있는 사람들에게 유용한 정보와 조언을 제공할 것입니다. 피부과 전문의는 피부 건강에 대한 전문 지식을 가지고 있으며, 참석자들에게 피부 관리에 대한 가이드를 제공할 것입니다.\n",
      " 최근에는 부동산 시장에서 땅 투기와 관련된 문제들이 나타나고 있다고 합니다. 특히 광주지역의 일부 산단에서는 도심으로의 편입으로 인해 부동산 가치가 상승할 것으로 예상되어 용도 변경 시도가 계속되고 있다고 전문가들이 말하고 있어요. 이러한 상황은 부동산 시세 차익을 노리는 투기적인 행태로 이어질 수 있다는 점이 우려되고 있습니다. 😊\n",
      "답변: 최근에는 달리 부동산 시세 차익 등을 노린 땅 투기성 산단 매매 행태 등이 나타나고 있다는 점이 주목받고 있습니다. 특히 광주지역의 일부 산단이 도심에 편입되면서 부동산 가치 상승을 노린 용도 변경 시도가 계속되고 있을 수 있다고 전문가들은 언급하고 있습니다. 이러한 사례는 부동산 시장에 금융적 영향을 미칠 수 있으며, 투기적인 행태가 지속되면 부동산 가격의 불안정성을 야기할 수 있습니다.\n"
     ]
    },
    {
     "ename": "ServiceUnavailableError",
     "evalue": "The server is overloaded or not ready yet.",
     "output_type": "error",
     "traceback": [
      "\u001b[1;31m---------------------------------------------------------------------------\u001b[0m",
      "\u001b[1;31mServiceUnavailableError\u001b[0m                   Traceback (most recent call last)",
      "Cell \u001b[1;32mIn[14], line 5\u001b[0m\n\u001b[0;32m      3\u001b[0m \u001b[39mfor\u001b[39;00m i \u001b[39min\u001b[39;00m \u001b[39mrange\u001b[39m(\u001b[39m0\u001b[39m,\u001b[39m5\u001b[39m):\n\u001b[0;32m      4\u001b[0m     INPUT_NEWS \u001b[39m=\u001b[39m \u001b[39m'\u001b[39m\u001b[39m<\u001b[39m\u001b[39m'\u001b[39m\u001b[39m+\u001b[39mnews[i]\u001b[39m+\u001b[39m\u001b[39m'\u001b[39m\u001b[39m>\u001b[39m\u001b[39m'\u001b[39m\n\u001b[1;32m----> 5\u001b[0m     A_response \u001b[39m=\u001b[39m A_res(INPUT_NEWS, OPENAI_API_KEY)[\u001b[39m'\u001b[39m\u001b[39mchoices\u001b[39m\u001b[39m'\u001b[39m][\u001b[39m0\u001b[39m][\u001b[39m'\u001b[39m\u001b[39mmessage\u001b[39m\u001b[39m'\u001b[39m][\u001b[39m'\u001b[39m\u001b[39mcontent\u001b[39m\u001b[39m'\u001b[39m]\u001b[39m.\u001b[39mreplace(\u001b[39m'\u001b[39m\u001b[39mAnswer:\u001b[39m\u001b[39m'\u001b[39m, \u001b[39m'\u001b[39m\u001b[39m'\u001b[39m)\n\u001b[0;32m      6\u001b[0m     A\u001b[39m.\u001b[39mappend(A_response)\n\u001b[0;32m      7\u001b[0m     \u001b[39mprint\u001b[39m(A_response)\n",
      "Cell \u001b[1;32mIn[12], line 8\u001b[0m, in \u001b[0;36mA_res\u001b[1;34m(INPUT_NEWS, OPENAI_API_KEY)\u001b[0m\n\u001b[0;32m      6\u001b[0m \u001b[39mdef\u001b[39;00m \u001b[39mA_res\u001b[39m(INPUT_NEWS, OPENAI_API_KEY):\n\u001b[0;32m      7\u001b[0m     openai\u001b[39m.\u001b[39mapi_key \u001b[39m=\u001b[39m OPENAI_API_KEY\n\u001b[1;32m----> 8\u001b[0m     A_response \u001b[39m=\u001b[39m openai\u001b[39m.\u001b[39;49mChatCompletion\u001b[39m.\u001b[39;49mcreate(\n\u001b[0;32m      9\u001b[0m         model \u001b[39m=\u001b[39;49m MODEL,\n\u001b[0;32m     10\u001b[0m         messages\u001b[39m=\u001b[39;49m[\n\u001b[0;32m     11\u001b[0m             \u001b[39m# 페르소나 부여\u001b[39;49;00m\n\u001b[0;32m     12\u001b[0m             {\u001b[39m\"\u001b[39;49m\u001b[39mrole\u001b[39;49m\u001b[39m\"\u001b[39;49m:\u001b[39m\"\u001b[39;49m\u001b[39msystem\u001b[39;49m\u001b[39m\"\u001b[39;49m, \n\u001b[0;32m     13\u001b[0m             \u001b[39m# 1 - <>로 구분된 다음 텍스트를 분석하십시오.\u001b[39;49;00m\n\u001b[0;32m     14\u001b[0m             \u001b[39m# 2 - 뉴스 내용에 대한 상황을 판단해 주세요\u001b[39;49;00m\n\u001b[0;32m     15\u001b[0m             \u001b[39m# 3 - 뉴스에 대한 평가글을 추가하시오\u001b[39;49;00m\n\u001b[0;32m     16\u001b[0m             \u001b[39m# 4 - 뉴스 콘텐츠 전달을 목적으로 누구나 내용을 이해할 수 있도록 작성해주세요.\u001b[39;49;00m\n\u001b[0;32m     17\u001b[0m             \u001b[39m# 5 - 뉴스를 긍정적인 내용으로 요약하시오.\u001b[39;49;00m\n\u001b[0;32m     18\u001b[0m             \u001b[39m\"\u001b[39;49m\u001b[39mcontent\u001b[39;49m\u001b[39m\"\u001b[39;49m:\u001b[39m\"\"\"\u001b[39;49m\n\u001b[0;32m     19\u001b[0m \u001b[39m            your task is to perform the following action\u001b[39;49m\n\u001b[0;32m     20\u001b[0m \u001b[39m            1 - Parse the following text separated by <>.\u001b[39;49m\n\u001b[0;32m     21\u001b[0m \u001b[39m            2 - Please judge the situation for the news content\u001b[39;49m\n\u001b[0;32m     22\u001b[0m \u001b[39m            3 - Add a comment about the news\u001b[39;49m\n\u001b[0;32m     23\u001b[0m \u001b[39m            4 - For the purpose of delivering news content, please write so that anyone can understand the content.\u001b[39;49m\n\u001b[0;32m     24\u001b[0m \u001b[39m            5 - Summarize the news in a positive way.\u001b[39;49m\n\u001b[0;32m     25\u001b[0m \n\u001b[0;32m     26\u001b[0m \u001b[39m            \u001b[39;49m\n\u001b[0;32m     27\u001b[0m \u001b[39m            The next challenge is how to speak. Conversations should be created in an introductory way.\u001b[39;49m\n\u001b[0;32m     28\u001b[0m \u001b[39m            1 - Write in a friendly tone\u001b[39;49m\n\u001b[0;32m     29\u001b[0m \u001b[39m            2 - Add a huge variety of emoticons at the end of each sentence\u001b[39;49m\n\u001b[0;32m     30\u001b[0m \u001b[39m            3 - Use the tone of a young woman\u001b[39;49m\n\u001b[0;32m     31\u001b[0m \n\u001b[0;32m     32\u001b[0m \u001b[39m            Use the following format:\u001b[39;49m\n\u001b[0;32m     33\u001b[0m \u001b[39m                Answer : korea languge answer\u001b[39;49m\n\u001b[0;32m     34\u001b[0m \u001b[39m            \u001b[39;49m\u001b[39m\"\"\"\u001b[39;49m},\n\u001b[0;32m     35\u001b[0m \n\u001b[0;32m     36\u001b[0m             \u001b[39m# 프롬프트 \u001b[39;49;00m\n\u001b[0;32m     37\u001b[0m             \u001b[39m# 1 - 친근한 어조로 쓰기\u001b[39;49;00m\n\u001b[0;32m     38\u001b[0m             \u001b[39m# 2 - 각 문장 끝에 매우 다양한 이모티콘 추가\u001b[39;49;00m\n\u001b[0;32m     39\u001b[0m             \u001b[39m# 3 - 젊은 여성의 어조를 사용하십시오.\u001b[39;49;00m\n\u001b[0;32m     40\u001b[0m             {\u001b[39m\"\u001b[39;49m\u001b[39mrole\u001b[39;49m\u001b[39m\"\u001b[39;49m:\u001b[39m\"\u001b[39;49m\u001b[39muser\u001b[39;49m\u001b[39m\"\u001b[39;49m,\u001b[39m\"\u001b[39;49m\u001b[39mcontent\u001b[39;49m\u001b[39m\"\u001b[39;49m: INPUT_NEWS\u001b[39m+\u001b[39;49m\u001b[39m'\u001b[39;49m\u001b[39mBe sure to use the format:Answer: Korean answer\u001b[39;49m\u001b[39m'\u001b[39;49m },\n\u001b[0;32m     41\u001b[0m \n\u001b[0;32m     42\u001b[0m             \u001b[39m# 이전응답\u001b[39;49;00m\n\u001b[0;32m     43\u001b[0m             {\u001b[39m\"\u001b[39;49m\u001b[39mrole\u001b[39;49m\u001b[39m\"\u001b[39;49m:\u001b[39m\"\u001b[39;49m\u001b[39massistant\u001b[39;49m\u001b[39m\"\u001b[39;49m,\u001b[39m\"\u001b[39;49m\u001b[39mcontent\u001b[39;49m\u001b[39m\"\u001b[39;49m:\u001b[39m'\u001b[39;49m\u001b[39m'\u001b[39;49m},\n\u001b[0;32m     44\u001b[0m         ],\n\u001b[0;32m     45\u001b[0m         temperature\u001b[39m=\u001b[39;49m\u001b[39m0\u001b[39;49m,\n\u001b[0;32m     46\u001b[0m     )\n\u001b[0;32m     47\u001b[0m     \u001b[39mreturn\u001b[39;00m A_response\n",
      "File \u001b[1;32mc:\\Users\\USER\\AppData\\Local\\Programs\\Python\\Python311\\Lib\\site-packages\\openai\\api_resources\\chat_completion.py:25\u001b[0m, in \u001b[0;36mChatCompletion.create\u001b[1;34m(cls, *args, **kwargs)\u001b[0m\n\u001b[0;32m     23\u001b[0m \u001b[39mwhile\u001b[39;00m \u001b[39mTrue\u001b[39;00m:\n\u001b[0;32m     24\u001b[0m     \u001b[39mtry\u001b[39;00m:\n\u001b[1;32m---> 25\u001b[0m         \u001b[39mreturn\u001b[39;00m \u001b[39msuper\u001b[39;49m()\u001b[39m.\u001b[39;49mcreate(\u001b[39m*\u001b[39;49margs, \u001b[39m*\u001b[39;49m\u001b[39m*\u001b[39;49mkwargs)\n\u001b[0;32m     26\u001b[0m     \u001b[39mexcept\u001b[39;00m TryAgain \u001b[39mas\u001b[39;00m e:\n\u001b[0;32m     27\u001b[0m         \u001b[39mif\u001b[39;00m timeout \u001b[39mis\u001b[39;00m \u001b[39mnot\u001b[39;00m \u001b[39mNone\u001b[39;00m \u001b[39mand\u001b[39;00m time\u001b[39m.\u001b[39mtime() \u001b[39m>\u001b[39m start \u001b[39m+\u001b[39m timeout:\n",
      "File \u001b[1;32mc:\\Users\\USER\\AppData\\Local\\Programs\\Python\\Python311\\Lib\\site-packages\\openai\\api_resources\\abstract\\engine_api_resource.py:153\u001b[0m, in \u001b[0;36mEngineAPIResource.create\u001b[1;34m(cls, api_key, api_base, api_type, request_id, api_version, organization, **params)\u001b[0m\n\u001b[0;32m    127\u001b[0m \u001b[39m@classmethod\u001b[39m\n\u001b[0;32m    128\u001b[0m \u001b[39mdef\u001b[39;00m \u001b[39mcreate\u001b[39m(\n\u001b[0;32m    129\u001b[0m     \u001b[39mcls\u001b[39m,\n\u001b[1;32m   (...)\u001b[0m\n\u001b[0;32m    136\u001b[0m     \u001b[39m*\u001b[39m\u001b[39m*\u001b[39mparams,\n\u001b[0;32m    137\u001b[0m ):\n\u001b[0;32m    138\u001b[0m     (\n\u001b[0;32m    139\u001b[0m         deployment_id,\n\u001b[0;32m    140\u001b[0m         engine,\n\u001b[1;32m   (...)\u001b[0m\n\u001b[0;32m    150\u001b[0m         api_key, api_base, api_type, api_version, organization, \u001b[39m*\u001b[39m\u001b[39m*\u001b[39mparams\n\u001b[0;32m    151\u001b[0m     )\n\u001b[1;32m--> 153\u001b[0m     response, _, api_key \u001b[39m=\u001b[39m requestor\u001b[39m.\u001b[39;49mrequest(\n\u001b[0;32m    154\u001b[0m         \u001b[39m\"\u001b[39;49m\u001b[39mpost\u001b[39;49m\u001b[39m\"\u001b[39;49m,\n\u001b[0;32m    155\u001b[0m         url,\n\u001b[0;32m    156\u001b[0m         params\u001b[39m=\u001b[39;49mparams,\n\u001b[0;32m    157\u001b[0m         headers\u001b[39m=\u001b[39;49mheaders,\n\u001b[0;32m    158\u001b[0m         stream\u001b[39m=\u001b[39;49mstream,\n\u001b[0;32m    159\u001b[0m         request_id\u001b[39m=\u001b[39;49mrequest_id,\n\u001b[0;32m    160\u001b[0m         request_timeout\u001b[39m=\u001b[39;49mrequest_timeout,\n\u001b[0;32m    161\u001b[0m     )\n\u001b[0;32m    163\u001b[0m     \u001b[39mif\u001b[39;00m stream:\n\u001b[0;32m    164\u001b[0m         \u001b[39m# must be an iterator\u001b[39;00m\n\u001b[0;32m    165\u001b[0m         \u001b[39massert\u001b[39;00m \u001b[39mnot\u001b[39;00m \u001b[39misinstance\u001b[39m(response, OpenAIResponse)\n",
      "File \u001b[1;32mc:\\Users\\USER\\AppData\\Local\\Programs\\Python\\Python311\\Lib\\site-packages\\openai\\api_requestor.py:298\u001b[0m, in \u001b[0;36mAPIRequestor.request\u001b[1;34m(self, method, url, params, headers, files, stream, request_id, request_timeout)\u001b[0m\n\u001b[0;32m    277\u001b[0m \u001b[39mdef\u001b[39;00m \u001b[39mrequest\u001b[39m(\n\u001b[0;32m    278\u001b[0m     \u001b[39mself\u001b[39m,\n\u001b[0;32m    279\u001b[0m     method,\n\u001b[1;32m   (...)\u001b[0m\n\u001b[0;32m    286\u001b[0m     request_timeout: Optional[Union[\u001b[39mfloat\u001b[39m, Tuple[\u001b[39mfloat\u001b[39m, \u001b[39mfloat\u001b[39m]]] \u001b[39m=\u001b[39m \u001b[39mNone\u001b[39;00m,\n\u001b[0;32m    287\u001b[0m ) \u001b[39m-\u001b[39m\u001b[39m>\u001b[39m Tuple[Union[OpenAIResponse, Iterator[OpenAIResponse]], \u001b[39mbool\u001b[39m, \u001b[39mstr\u001b[39m]:\n\u001b[0;32m    288\u001b[0m     result \u001b[39m=\u001b[39m \u001b[39mself\u001b[39m\u001b[39m.\u001b[39mrequest_raw(\n\u001b[0;32m    289\u001b[0m         method\u001b[39m.\u001b[39mlower(),\n\u001b[0;32m    290\u001b[0m         url,\n\u001b[1;32m   (...)\u001b[0m\n\u001b[0;32m    296\u001b[0m         request_timeout\u001b[39m=\u001b[39mrequest_timeout,\n\u001b[0;32m    297\u001b[0m     )\n\u001b[1;32m--> 298\u001b[0m     resp, got_stream \u001b[39m=\u001b[39m \u001b[39mself\u001b[39;49m\u001b[39m.\u001b[39;49m_interpret_response(result, stream)\n\u001b[0;32m    299\u001b[0m     \u001b[39mreturn\u001b[39;00m resp, got_stream, \u001b[39mself\u001b[39m\u001b[39m.\u001b[39mapi_key\n",
      "File \u001b[1;32mc:\\Users\\USER\\AppData\\Local\\Programs\\Python\\Python311\\Lib\\site-packages\\openai\\api_requestor.py:700\u001b[0m, in \u001b[0;36mAPIRequestor._interpret_response\u001b[1;34m(self, result, stream)\u001b[0m\n\u001b[0;32m    692\u001b[0m     \u001b[39mreturn\u001b[39;00m (\n\u001b[0;32m    693\u001b[0m         \u001b[39mself\u001b[39m\u001b[39m.\u001b[39m_interpret_response_line(\n\u001b[0;32m    694\u001b[0m             line, result\u001b[39m.\u001b[39mstatus_code, result\u001b[39m.\u001b[39mheaders, stream\u001b[39m=\u001b[39m\u001b[39mTrue\u001b[39;00m\n\u001b[0;32m    695\u001b[0m         )\n\u001b[0;32m    696\u001b[0m         \u001b[39mfor\u001b[39;00m line \u001b[39min\u001b[39;00m parse_stream(result\u001b[39m.\u001b[39miter_lines())\n\u001b[0;32m    697\u001b[0m     ), \u001b[39mTrue\u001b[39;00m\n\u001b[0;32m    698\u001b[0m \u001b[39melse\u001b[39;00m:\n\u001b[0;32m    699\u001b[0m     \u001b[39mreturn\u001b[39;00m (\n\u001b[1;32m--> 700\u001b[0m         \u001b[39mself\u001b[39;49m\u001b[39m.\u001b[39;49m_interpret_response_line(\n\u001b[0;32m    701\u001b[0m             result\u001b[39m.\u001b[39;49mcontent\u001b[39m.\u001b[39;49mdecode(\u001b[39m\"\u001b[39;49m\u001b[39mutf-8\u001b[39;49m\u001b[39m\"\u001b[39;49m),\n\u001b[0;32m    702\u001b[0m             result\u001b[39m.\u001b[39;49mstatus_code,\n\u001b[0;32m    703\u001b[0m             result\u001b[39m.\u001b[39;49mheaders,\n\u001b[0;32m    704\u001b[0m             stream\u001b[39m=\u001b[39;49m\u001b[39mFalse\u001b[39;49;00m,\n\u001b[0;32m    705\u001b[0m         ),\n\u001b[0;32m    706\u001b[0m         \u001b[39mFalse\u001b[39;00m,\n\u001b[0;32m    707\u001b[0m     )\n",
      "File \u001b[1;32mc:\\Users\\USER\\AppData\\Local\\Programs\\Python\\Python311\\Lib\\site-packages\\openai\\api_requestor.py:743\u001b[0m, in \u001b[0;36mAPIRequestor._interpret_response_line\u001b[1;34m(self, rbody, rcode, rheaders, stream)\u001b[0m\n\u001b[0;32m    740\u001b[0m     \u001b[39mreturn\u001b[39;00m OpenAIResponse(\u001b[39mNone\u001b[39;00m, rheaders)\n\u001b[0;32m    742\u001b[0m \u001b[39mif\u001b[39;00m rcode \u001b[39m==\u001b[39m \u001b[39m503\u001b[39m:\n\u001b[1;32m--> 743\u001b[0m     \u001b[39mraise\u001b[39;00m error\u001b[39m.\u001b[39mServiceUnavailableError(\n\u001b[0;32m    744\u001b[0m         \u001b[39m\"\u001b[39m\u001b[39mThe server is overloaded or not ready yet.\u001b[39m\u001b[39m\"\u001b[39m,\n\u001b[0;32m    745\u001b[0m         rbody,\n\u001b[0;32m    746\u001b[0m         rcode,\n\u001b[0;32m    747\u001b[0m         headers\u001b[39m=\u001b[39mrheaders,\n\u001b[0;32m    748\u001b[0m     )\n\u001b[0;32m    749\u001b[0m \u001b[39mtry\u001b[39;00m:\n\u001b[0;32m    750\u001b[0m     \u001b[39mif\u001b[39;00m \u001b[39m'\u001b[39m\u001b[39mtext/plain\u001b[39m\u001b[39m'\u001b[39m \u001b[39min\u001b[39;00m rheaders\u001b[39m.\u001b[39mget(\u001b[39m'\u001b[39m\u001b[39mContent-Type\u001b[39m\u001b[39m'\u001b[39m, \u001b[39m'\u001b[39m\u001b[39m'\u001b[39m):\n",
      "\u001b[1;31mServiceUnavailableError\u001b[0m: The server is overloaded or not ready yet."
     ]
    }
   ],
   "source": [
    "A = []\n",
    "B = []\n",
    "for i in range(0,5):\n",
    "    INPUT_NEWS = '<'+news[i]+'>'\n",
    "    A_response = A_res(INPUT_NEWS, OPENAI_API_KEY)['choices'][0]['message']['content'].replace('Answer:', '')\n",
    "    A.append(A_response)\n",
    "    print(A_response)\n",
    "    B_response = B_res(INPUT_NEWS, OPENAI_API_KEY)['choices'][0]['message']['content'].replace('Answer:', '')\n",
    "    B.append(B_response)\n",
    "    print(B_response)\n",
    "    \n"
   ]
  },
  {
   "cell_type": "code",
   "execution_count": 15,
   "metadata": {},
   "outputs": [
    {
     "data": {
      "text/plain": [
       "datetime.date(2023, 7, 27)"
      ]
     },
     "execution_count": 15,
     "metadata": {},
     "output_type": "execute_result"
    }
   ],
   "source": [
    "now = datetime.now()\n",
    "now.date()"
   ]
  },
  {
   "cell_type": "code",
   "execution_count": 16,
   "metadata": {},
   "outputs": [
    {
     "name": "stderr",
     "output_type": "stream",
     "text": [
      "���� ���͸� �Ǵ� ���� news_res��(��) �̹� �ֽ��ϴ�.\n"
     ]
    }
   ],
   "source": [
    "! mkdir news_res"
   ]
  },
  {
   "cell_type": "code",
   "execution_count": 17,
   "metadata": {},
   "outputs": [],
   "source": [
    "with open(f'news_res/A_{now.date()}.txt', 'w', encoding='utf-8') as f:\n",
    "    for a in A:\n",
    "        f.write(a)\n",
    "        f.write('\\n')"
   ]
  },
  {
   "cell_type": "code",
   "execution_count": 18,
   "metadata": {},
   "outputs": [],
   "source": [
    "with open(f'news_res/B_{now.date()}.txt', 'w', encoding='utf-8') as f:\n",
    "    for b in B:\n",
    "        f.write(b)\n",
    "        f.write('\\n')"
   ]
  },
  {
   "cell_type": "code",
   "execution_count": null,
   "metadata": {},
   "outputs": [],
   "source": []
  }
 ],
 "metadata": {
  "kernelspec": {
   "display_name": "Python 3",
   "language": "python",
   "name": "python3"
  },
  "language_info": {
   "codemirror_mode": {
    "name": "ipython",
    "version": 3
   },
   "file_extension": ".py",
   "mimetype": "text/x-python",
   "name": "python",
   "nbconvert_exporter": "python",
   "pygments_lexer": "ipython3",
   "version": "3.11.3"
  },
  "orig_nbformat": 4
 },
 "nbformat": 4,
 "nbformat_minor": 2
}
